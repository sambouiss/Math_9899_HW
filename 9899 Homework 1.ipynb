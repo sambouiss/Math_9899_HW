{
 "cells": [
  {
   "cell_type": "markdown",
   "metadata": {},
   "source": [
    "# Samuel John Bouiss\n",
    "\n",
    "ASSIGNMENT 1\n",
    "\n",
    "4/5/2018"
   ]
  },
  {
   "cell_type": "markdown",
   "metadata": {},
   "source": [
    "# Question 1\n",
    "\n",
    "Compute the complexity of a naive kfold cross validated ridge regression on an $N \\times F$ martix.\n",
    "Ridge regression is given by $\\hat{\\beta} = (X^{T}X+\\lambda I)^{-1}X^{T}y$ where $X = N \\times F$.\n",
    "$$T(X^{T}X+\\lambda I) = O(F^2(N-N/K) + F^2) \\to O(F^2N)$$  \n",
    "$T(X^{-1})$ where $X = F \\times F \\to O(F^3) \\to T((X^{T}X+\\lambda I)^{-1}X^{T}y) = O(2F^{2}N + F^3 + FN) \\to O(F^{2}N + F^3)$\n",
    "\n",
    "This happens k times, there for complexity of naive kfold is $O(K(F^{2}N + F^3))$ \n",
    "\n",
    "\n",
    "\n"
   ]
  },
  {
   "cell_type": "markdown",
   "metadata": {},
   "source": [
    "# Question 2\n",
    "\n",
    "Given all items are the same between $X_{-i}^{T}X_{-i}$ and $X^{T}X$ excluding $X_{i}^{T}X_{i} i \\in \\{1,2,...k\\}$ , we can compute and store these items, which allows us to go to $T(FAST RIDGE) = O(F^{2}N + KF^3)$."
   ]
  },
  {
   "cell_type": "code",
   "execution_count": 287,
   "metadata": {
    "collapsed": false
   },
   "outputs": [],
   "source": [
    "#Question 3\n",
    "import numpy as np\n",
    "from timeit import default_timer as timer\n",
    "import matplotlib.pyplot as plt\n",
    "\n",
    "def generate_test_data(n,f):\n",
    "    np.random.seed(1)\n",
    "    \n",
    "    true_betas = np.random.randn(f)\n",
    "    X = np.random.randn(n,f)\n",
    "    Y = np.random.randn(n) + X.dot(true_betas)\n",
    "    \n",
    "    return(X,Y)\n",
    "\n",
    "def naive_ridge(X,Y,num_folds,lambdas):\n",
    "    mse = np.inf\n",
    "    best_lamb = { i:0 for i in lambdas}\n",
    "\n",
    "    for i in range(0,num_folds):\n",
    "        x_train = np.delete(x,[j for j in range(int(i*len(X)/num_folds),int((1+i)*len(x)/num_folds))],0)\n",
    "        x_test = X[i*len(X)/num_folds:(i+1)*len(X)/num_folds]\n",
    "        y_train = np.delete(y,[j for j in range(int(i*len(y)/num_folds),int((1+i)*len(y)/num_folds))],0)\n",
    "        y_test = y[i*len(y)/num_folds:(i+1)*len(y)/num_folds]\n",
    "        xtx = np.matmul(x_train.transpose(),x_train)\n",
    "        for item in lambdas:\n",
    "            betas = np.matmul(np.matmul(np.linalg.inv(xtx+item*np.identity(len(X[0]))),x_train.transpose()),y_train)\n",
    "            error = y_test - np.dot(x_test, betas)\n",
    "            best_lamb[item]+= (error*error).sum()\n",
    "    betas = np.matmul(np.matmul(np.linalg.inv(np.matmul(X.transpose(),X)+min(best_lamb, key=best_lamb.get)*np.identity(len(X[0])))\n",
    "                              ,X.transpose()),Y)\n",
    "    return (min(best_lamb, key=best_lamb.get),betas)\n",
    "\n",
    "def fast_ridge(X,Y,num_folds,lambdas):\n",
    "    mse = np.inf\n",
    "    best_lamb = {i:0 for i in lambdas}\n",
    "    total = np.matmul(x.transpose(),x)\n",
    "    for i in range(0,num_folds):\n",
    "        x_train = np.delete(x,[j for j in range(int(i*len(x)/num_folds),int((1+i)*len(x)/num_folds))],0)\n",
    "        x_test = x[i*len(x)/num_folds:(i+1)*len(x)/num_folds]\n",
    "        y_train = np.delete(y,[j for j in range(int(i*len(y)/num_folds),int((1+i)*len(y)/num_folds))],0)\n",
    "        y_test = y[i*len(y)/num_folds:(i+1)*len(y)/num_folds]\n",
    "        xtx = total - np.matmul(x_test.transpose(),x_test)\n",
    "        for item in lambdas:\n",
    "            betas = np.matmul(np.matmul(np.linalg.inv(xtx+item*np.identity(len(X[0]))),x_train.transpose()),y_train)\n",
    "            error = y_test - np.dot(x_test, betas)\n",
    "            best_lamb[item] += (error*error).sum()\n",
    "    betas = np.matmul(np.matmul(np.linalg.inv(np.matmul(X.transpose(),X)+min(best_lamb, key=best_lamb.get)*np.identity(len(X[0])))\n",
    "                              ,X.transpose()),Y)\n",
    "    return (min(best_lamb, key=best_lamb.get),betas)\n",
    "        \n"
   ]
  },
  {
   "cell_type": "code",
   "execution_count": 288,
   "metadata": {
    "collapsed": false
   },
   "outputs": [
    {
     "name": "stderr",
     "output_type": "stream",
     "text": [
      "C:\\Users\\Samuel John Bouiss\\Anaconda3\\lib\\site-packages\\ipykernel\\__main__.py:21: VisibleDeprecationWarning: using a non-integer number instead of an integer will result in an error in the future\n",
      "C:\\Users\\Samuel John Bouiss\\Anaconda3\\lib\\site-packages\\ipykernel\\__main__.py:23: VisibleDeprecationWarning: using a non-integer number instead of an integer will result in an error in the future\n",
      "C:\\Users\\Samuel John Bouiss\\Anaconda3\\lib\\site-packages\\ipykernel\\__main__.py:39: VisibleDeprecationWarning: using a non-integer number instead of an integer will result in an error in the future\n",
      "C:\\Users\\Samuel John Bouiss\\Anaconda3\\lib\\site-packages\\ipykernel\\__main__.py:41: VisibleDeprecationWarning: using a non-integer number instead of an integer will result in an error in the future\n"
     ]
    }
   ],
   "source": [
    "time_naive = []\n",
    "time_fast = []\n",
    "n = []\n",
    "for i in range(1,20):\n",
    "    x, y = generate_test_data(1000*i,100)\n",
    "    n.append(1000*i)\n",
    "    start = timer()\n",
    "    naive_ridge(x,y,20,[.1,.2,.3,.4,.5,.6,.7,.8,.9,1])\n",
    "    end = timer()\n",
    "    time_naive.append(end-start)\n",
    "    start = timer()\n",
    "    fast_ridge(x,y,20,[.1,.2,.3,.4,.5,.6,.7,.8,.9,1])\n",
    "    end = timer()\n",
    "    time_fast.append(end-start)\n",
    "    "
   ]
  },
  {
   "cell_type": "code",
   "execution_count": 289,
   "metadata": {
    "collapsed": false,
    "scrolled": false
   },
   "outputs": [
    {
     "data": {
      "image/png": "[encoded data removed]",
      "text/plain": [
       "<matplotlib.figure.Figure at 0x17d818419e8>"
      ]
     },
     "metadata": {},
     "output_type": "display_data"
    }
   ],
   "source": [
    "plt.plot(n,time_naive,color='b')\n",
    "plt.plot(n,time_fast)\n",
    "plt.title('n vs time')\n",
    "plt.style.use('ggplot')\n",
    "plt.xlabel('n')\n",
    "plt.ylabel('time')\n",
    "plt.show()"
   ]
  },
  {
   "cell_type": "code",
   "execution_count": 292,
   "metadata": {
    "collapsed": false
   },
   "outputs": [
    {
     "name": "stderr",
     "output_type": "stream",
     "text": [
      "C:\\Users\\Samuel John Bouiss\\Anaconda3\\lib\\site-packages\\ipykernel\\__main__.py:21: VisibleDeprecationWarning: using a non-integer number instead of an integer will result in an error in the future\n",
      "C:\\Users\\Samuel John Bouiss\\Anaconda3\\lib\\site-packages\\ipykernel\\__main__.py:23: VisibleDeprecationWarning: using a non-integer number instead of an integer will result in an error in the future\n",
      "C:\\Users\\Samuel John Bouiss\\Anaconda3\\lib\\site-packages\\ipykernel\\__main__.py:39: VisibleDeprecationWarning: using a non-integer number instead of an integer will result in an error in the future\n",
      "C:\\Users\\Samuel John Bouiss\\Anaconda3\\lib\\site-packages\\ipykernel\\__main__.py:41: VisibleDeprecationWarning: using a non-integer number instead of an integer will result in an error in the future\n"
     ]
    }
   ],
   "source": [
    "time_naive = []\n",
    "time_fast = []\n",
    "f = []\n",
    "for i in range(1,20):\n",
    "    x, y = generate_test_data(1000,10*i)\n",
    "    f.append(10*i)\n",
    "    start = timer()\n",
    "    naive_ridge(x,y,20,[.1,.2,.3,.4,.5,.6,.7,.8,.9,1])\n",
    "    end = timer()\n",
    "    time_naive.append(end-start)\n",
    "    start = timer()\n",
    "    fast_ridge(x,y,20,[.1,.2,.3,.4,.5,.6,.7,.8,.9,1])\n",
    "    end = timer()\n",
    "    time_fast.append(end-start)"
   ]
  },
  {
   "cell_type": "code",
   "execution_count": 293,
   "metadata": {
    "collapsed": false
   },
   "outputs": [
    {
     "data": {
      "image/png": "[encoded data removed]",
      "text/plain": [
       "<matplotlib.figure.Figure at 0x17d817d8ac8>"
      ]
     },
     "metadata": {},
     "output_type": "display_data"
    }
   ],
   "source": [
    "plt.plot(f,time_naive,color='b')\n",
    "plt.plot(f,time_fast)\n",
    "plt.title('f vs time')\n",
    "plt.style.use('ggplot')\n",
    "plt.xlabel('f')\n",
    "plt.ylabel('time')\n",
    "plt.show()"
   ]
  },
  {
   "cell_type": "code",
   "execution_count": null,
   "metadata": {
    "collapsed": true
   },
   "outputs": [],
   "source": []
  }
 ],
 "metadata": {
  "kernelspec": {
   "display_name": "Python 3",
   "language": "python",
   "name": "python3"
  },
  "language_info": {
   "codemirror_mode": {
    "name": "ipython",
    "version": 3
   },
   "file_extension": ".py",
   "mimetype": "text/x-python",
   "name": "python",
   "nbconvert_exporter": "python",
   "pygments_lexer": "ipython3",
   "version": "3.6.0"
  }
 },
 "nbformat": 4,
 "nbformat_minor": 2
}
